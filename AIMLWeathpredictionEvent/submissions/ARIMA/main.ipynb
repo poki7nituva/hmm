{
 "cells": [
  {
   "cell_type": "code",
   "execution_count": null,
   "metadata": {},
   "outputs": [],
   "source": [
    "import pandas as pd\n",
    "import numpy as np\n",
    "from statsmodels.tsa.arima.model import ARIMA\n",
    "import matplotlib.pyplot as plt\n",
    "from sklearn.metrics import mean_squared_error\n",
    "\n",
    "# Step 1: Load the data\n",
    "train_df = pd.read_csv('processedData.csv')\n",
    "prediction_df = pd.read_csv('processedTest.csv')\n",
    "\n",
    "# Step 2: Convert 'Full date' to datetime\n",
    "train_df['Full date'] = pd.to_datetime(train_df['Full date'])\n",
    "prediction_df['Full date'] = pd.to_datetime(prediction_df['Full date'])\n"
   ]
  }
 ],
 "metadata": {
  "kernelspec": {
   "display_name": "py39_knime",
   "language": "python",
   "name": "python3"
  },
  "language_info": {
   "name": "python",
   "version": "3.9.19"
  }
 },
 "nbformat": 4,
 "nbformat_minor": 2
}
