{
 "cells": [
  {
   "cell_type": "code",
   "execution_count": 1,
   "metadata": {},
   "outputs": [
    {
     "name": "stderr",
     "output_type": "stream",
     "text": [
      "c:\\Users\\manug\\anaconda3\\envs\\py39_knime\\lib\\site-packages\\threadpoolctl.py:1214: RuntimeWarning: \n",
      "Found Intel OpenMP ('libiomp') and LLVM OpenMP ('libomp') loaded at\n",
      "the same time. Both libraries are known to be incompatible and this\n",
      "can cause random crashes or deadlocks on Linux when loaded in the\n",
      "same Python program.\n",
      "Using threadpoolctl may cause crashes or deadlocks. For more\n",
      "information and possible workarounds, please see\n",
      "    https://github.com/joblib/threadpoolctl/blob/master/multiple_openmp.md\n",
      "\n",
      "  warnings.warn(msg, RuntimeWarning)\n"
     ]
    }
   ],
   "source": [
    "import numpy as np\n",
    "import pandas as pd\n",
    "import torch\n",
    "import torch.nn as nn\n",
    "from sklearn.preprocessing import MinMaxScaler\n",
    "from sklearn.model_selection import train_test_split\n",
    "\n",
    "# Data Preprocessing\n",
    "df = pd.read_csv('./processedData.csv')\n",
    "df['Date'] = pd.to_datetime(df['Full date'], format=\"%Y-%m-%d\")\n",
    "\n",
    "df['day_of_year'] = df['Date'].dt.dayofyear\n",
    "df['sine_day'] = np.sin(2 * np.pi * df['day_of_year'] / 365)\n",
    "df['cosine_day'] = np.cos(2 * np.pi * df['day_of_year'] / 365)\n",
    "\n",
    "df = df.drop(columns=['Date', 'day_of_year'])\n",
    "\n",
    "features = ['Rain', 'sine_day', 'cosine_day']\n",
    "target = ['Temp Max', 'Temp Min']\n",
    "\n",
    "scaler = MinMaxScaler()\n",
    "df[features + target] = scaler.fit_transform(df[features + target])\n",
    "\n",
    "\n"
   ]
  },
  {
   "cell_type": "code",
   "execution_count": 6,
   "metadata": {},
   "outputs": [],
   "source": [
    "\n",
    "sequence_length = 50\n",
    "X, y = [], []\n",
    "for i in range(sequence_length, len(df)):\n",
    "    X.append(df[features].iloc[i-sequence_length:i].values)\n",
    "    y.append(df[target].iloc[i].values)\n",
    "X, y = np.array(X), np.array(y)\n",
    "\n",
    "X_train, X_test, y_train, y_test = train_test_split(X, y, test_size=0.2, shuffle=False)\n",
    "\n",
    "# Convert data to PyTorch tensors\n",
    "X_train = torch.tensor(X_train, dtype=torch.float32)\n",
    "X_test = torch.tensor(X_test, dtype=torch.float32)\n",
    "y_train = torch.tensor(y_train, dtype=torch.float32)\n",
    "y_test = torch.tensor(y_test, dtype=torch.float32)\n"
   ]
  },
  {
   "cell_type": "code",
   "execution_count": 7,
   "metadata": {},
   "outputs": [],
   "source": [
    "\n",
    "# Define the PyTorch model\n",
    "class LSTMModel(nn.Module):\n",
    "    def __init__(self, input_size, hidden_size, output_size, num_layers=2):\n",
    "        super(LSTMModel, self).__init__()\n",
    "        self.lstm = nn.LSTM(input_size, hidden_size, num_layers, batch_first=True, dropout=0.2)\n",
    "        self.fc1 = nn.Linear(hidden_size, 32)\n",
    "        self.fc2 = nn.Linear(32, output_size)\n",
    "        self.relu = nn.ReLU()\n",
    "\n",
    "    def forward(self, x):\n",
    "        lstm_out, _ = self.lstm(x)\n",
    "        lstm_out = lstm_out[:, -1, :]  # Take the last output from the LSTM for the dense layers\n",
    "        x = self.relu(self.fc1(lstm_out))\n",
    "        x = self.fc2(x)\n",
    "        return x"
   ]
  },
  {
   "cell_type": "code",
   "execution_count": 8,
   "metadata": {},
   "outputs": [
    {
     "name": "stdout",
     "output_type": "stream",
     "text": [
      "Epoch 1/15, Loss: 0.024192549288272858\n",
      "Epoch 2/15, Loss: 0.0036964823957532644\n",
      "Epoch 3/15, Loss: 0.004264137241989374\n",
      "Epoch 4/15, Loss: 0.004433068446815014\n",
      "Epoch 5/15, Loss: 0.0038162937853485346\n",
      "Epoch 6/15, Loss: 0.0030033160001039505\n",
      "Epoch 7/15, Loss: 0.0034567592665553093\n",
      "Epoch 8/15, Loss: 0.002903485205024481\n",
      "Epoch 9/15, Loss: 0.0027908538468182087\n",
      "Epoch 10/15, Loss: 0.002624724991619587\n",
      "Epoch 11/15, Loss: 0.0029571279883384705\n",
      "Epoch 12/15, Loss: 0.0027860081754624844\n",
      "Epoch 13/15, Loss: 0.0033301643561571836\n",
      "Epoch 14/15, Loss: 0.0030648699030280113\n",
      "Epoch 15/15, Loss: 0.0037758233956992626\n"
     ]
    }
   ],
   "source": [
    "\n",
    "# Instantiate the model\n",
    "input_size = X_train.shape[2]\n",
    "hidden_size = 64\n",
    "output_size = 2  # 'Temp Max' and 'Temp Min'\n",
    "model = LSTMModel(input_size, hidden_size, output_size)\n",
    "\n",
    "# Define loss function and optimizer\n",
    "criterion = nn.MSELoss()\n",
    "optimizer = torch.optim.Adam(model.parameters(), lr=0.001)\n",
    "\n",
    "# Training the model\n",
    "epochs = 15\n",
    "batch_size = 16\n",
    "\n",
    "for epoch in range(epochs):\n",
    "    model.train()\n",
    "    for i in range(0, len(X_train), batch_size):\n",
    "        X_batch = X_train[i:i + batch_size]\n",
    "        y_batch = y_train[i:i + batch_size]\n",
    "\n",
    "        optimizer.zero_grad()\n",
    "        outputs = model(X_batch)\n",
    "        loss = criterion(outputs, y_batch)\n",
    "        loss.backward()\n",
    "        optimizer.step()\n",
    "\n",
    "    # Print progress\n",
    "    print(f'Epoch {epoch+1}/{epochs}, Loss: {loss.item()}')"
   ]
  },
  {
   "cell_type": "code",
   "execution_count": 9,
   "metadata": {},
   "outputs": [
    {
     "name": "stdout",
     "output_type": "stream",
     "text": [
      "Test Loss (MSE): 0.005617884919047356\n",
      "R² score for 'Temp Max': 0.7963274717330933\n",
      "R² score for 'Temp Min': 0.8146586418151855\n"
     ]
    }
   ],
   "source": [
    "from sklearn.metrics import r2_score\n",
    "\n",
    "# Evaluating the model with test data\n",
    "model.eval()\n",
    "with torch.no_grad():\n",
    "    test_outputs = model(X_test)\n",
    "    test_loss = criterion(test_outputs, y_test)\n",
    "    print(\"Test Loss (MSE):\", test_loss.item())\n",
    "\n",
    "    # Convert predictions and true values back to numpy for R^2 calculation\n",
    "    test_outputs = test_outputs.numpy()\n",
    "    y_test_np = y_test.numpy()\n",
    "\n",
    "    # Calculate R² score for 'Temp Max' and 'Temp Min'\n",
    "    r2_temp_max = r2_score(y_test_np[:, 0], test_outputs[:, 0])\n",
    "    r2_temp_min = r2_score(y_test_np[:, 1], test_outputs[:, 1])\n",
    "\n",
    "    print(f\"R² score for 'Temp Max': {r2_temp_max}\")\n",
    "    print(f\"R² score for 'Temp Min': {r2_temp_min}\")\n"
   ]
  }
 ],
 "metadata": {
  "kernelspec": {
   "display_name": "py39_knime",
   "language": "python",
   "name": "python3"
  },
  "language_info": {
   "codemirror_mode": {
    "name": "ipython",
    "version": 3
   },
   "file_extension": ".py",
   "mimetype": "text/x-python",
   "name": "python",
   "nbconvert_exporter": "python",
   "pygments_lexer": "ipython3",
   "version": "3.9.19"
  }
 },
 "nbformat": 4,
 "nbformat_minor": 2
}
